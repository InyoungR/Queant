{
 "cells": [
  {
   "cell_type": "code",
   "execution_count": 1,
   "metadata": {},
   "outputs": [],
   "source": [
    "#필요한 라이브러리 import\n",
    "import requests\n",
    "import urllib.request\n",
    "from bs4 import BeautifulSoup\n",
    "import xml.etree.ElementTree as ET\n",
    "import pymysql"
   ]
  },
  {
   "cell_type": "code",
   "execution_count": 38,
   "metadata": {},
   "outputs": [],
   "source": [
    "conn = pymysql.connect(host=\"localhost\", user='queant', password='queant1234', db = 'queant', charset='utf8mb4')\n",
    "cur = conn.cursor()"
   ]
  },
  {
   "cell_type": "markdown",
   "metadata": {},
   "source": [
    "**의논사항**\n",
    "* product table에서 은행 id Long으로 선언되어 있었는데 Long이 없는것 같아서 int로 변경\n",
    "* 가입방법 table에 가입방법 column이 필요 없을 것 같다고 생각이 듦.\n",
    "\n",
    "create product table\n",
    "```sql\n",
    "CREATE TABLE `queant`.`product` (\n",
    "  `product_id` INT NOT NULL AUTO_INCREMENT,\n",
    "  `bank_id` INT NOT NULL,\n",
    "  `is_deposit` TINYINT NOT NULL,\n",
    "  `name` VARCHAR(50) NOT NULL,\n",
    "  PRIMARY KEY (`product_id`));\n",
    "```\n",
    "\n",
    "create joinway table\n",
    "```sql\n",
    "CREATE TABLE `queant`.`joinway` (\n",
    "  `joinway_id` INT NOT NULL AUTO_INCREMENT,\n",
    "  `product_id` INT NOT NULL,\n",
    "  `code_id` VARCHAR(2) NOT NULL,\n",
    "  `scode_id` INT NOT NULL,\n",
    "  PRIMARY KEY (`joinway_id`));\n",
    "```\n"
   ]
  },
  {
   "cell_type": "code",
   "execution_count": 3,
   "metadata": {},
   "outputs": [],
   "source": [
    "#api활용할 url부분\n",
    "\n",
    "#각 데이터 별 url 앞부분\n",
    "url_deposit = [\"https://finlife.fss.or.kr/finlifeapi/depositProductsSearch.xml?auth=\", \"https://finlife.fss.or.kr/finlifeapi/savingProductsSearch.xml?auth=\"]\n",
    "\n",
    "#발급받은 키\n",
    "api_key = \"47c0e868fdb16333d47d0e385641c3c0\"\n",
    "\n",
    "#권역코드\n",
    "code_front = \"&topFinGrpNo=\"\n",
    "code_bank = [\"020000\", \"030300\"]\n",
    "\n",
    "#페이지\n",
    "page_front = \"&pageNo=\"\n",
    "page_num = [\"1\", \"2\", \"3\", \"4\"]"
   ]
  },
  {
   "cell_type": "code",
   "execution_count": 4,
   "metadata": {},
   "outputs": [
    {
     "name": "stdout",
     "output_type": "stream",
     "text": [
      "https://finlife.fss.or.kr/finlifeapi/depositProductsSearch.xml?auth=47c0e868fdb16333d47d0e385641c3c0&topFinGrpNo=030300&pageNo=1\n"
     ]
    }
   ],
   "source": [
    "is_deposit = 1\n",
    "url = url_deposit[0] + api_key + code_front + code_bank[is_deposit] + page_front + page_num[0]\n",
    "print(url)\n",
    "data_str = urllib.request.urlopen(url).read().decode('euc-kr')\n",
    "data_xml = ET.fromstring(data_str)"
   ]
  },
  {
   "cell_type": "code",
   "execution_count": 43,
   "metadata": {},
   "outputs": [],
   "source": [
    "#상품 table에 정보들을 담는다.\n",
    "#python은 전부다 %s를 써야함.\n",
    "query_prdt_search = \"\"\"select * from queant.product where bank_id = (%s) and is_deposit = (%s) and name = (%s)\"\"\" #중복체크 확인 쿼리문\n",
    "query_prdt = \"\"\"INSERT INTO queant.product (bank_id, is_deposit, name) values (%s,%s,%s);\"\"\" #데이터 insert 쿼리문\n",
    "for product_tag in data_xml[5]:\n",
    "    bank_id = int(product_tag[0].find(\"fin_co_no\").text) #은행코드\n",
    "    deposit = is_deposit #예금인지 적금인지\n",
    "    prdt_name = product_tag[0].find(\"fin_prdt_nm\").text #상품명\n",
    "    prdt_name = prdt_name.replace(\"\\n\", \" \")\n",
    "    values = (bank_id,deposit,prdt_name) # 각각의 value들을 values에 묶어서 전달한다.\n",
    "    cur.execute(query_prdt_search, values)\n",
    "    if cur.fetchone() == None:\n",
    "        cur.execute(query_prdt, values)\n",
    "conn.commit()"
   ]
  },
  {
   "cell_type": "code",
   "execution_count": 39,
   "metadata": {},
   "outputs": [],
   "source": [
    "# 공통코드에서 가입방법의 코드를 가져온다.\n",
    "cur.execute(\"SELECT code_id FROM queant.commoncode where code_value = \\\"가입 방법\\\"\")\n",
    "\n",
    "row = cur.fetchone()\n",
    "if row != None:\n",
    "    code_id = row[0] #A가 저장됨"
   ]
  },
  {
   "cell_type": "code",
   "execution_count": 41,
   "metadata": {},
   "outputs": [
    {
     "name": "stdout",
     "output_type": "stream",
     "text": [
      "{'인터넷': 1, '스마트폰': 2, '전화': 3, '기타': 4, '영업점': 5}\n"
     ]
    }
   ],
   "source": [
    "#가입 방법 코드\n",
    "query_find_common = \"\"\"SELECT * FROM queant.specificcode where code_id = (%s)\"\"\"\n",
    "cur.execute(query_find_common,code_id)\n",
    "\n",
    "join_ways = {}\n",
    "while True:\n",
    "    row = cur.fetchone()\n",
    "    if row == None:\n",
    "        break\n",
    "    join_ways[row[2]] = int(row[0])\n",
    "    \n",
    "print(join_ways)"
   ]
  },
  {
   "cell_type": "code",
   "execution_count": 44,
   "metadata": {},
   "outputs": [],
   "source": [
    "query_join = \"\"\"INSERT INTO queant.joinway (product_id, code_id, scode_id) values (%s,%s,%s);\"\"\"\n",
    "query_find_prdtid = \"\"\"select product_id from queant.product where name = (%s) and bank_id = (%s)\"\"\"\n",
    "query_find_join = \"select * from queant.joinway where product_id = (%s) and code_id = (%s) and scode_id = (%s)\"\n",
    "for product_tag in data_xml[5]:\n",
    "    prdt_name = product_tag[0].find(\"fin_prdt_nm\").text #상품명\n",
    "    bank_id = int(product_tag[0].find(\"fin_co_no\").text) #은행코드\n",
    "    values = (prdt_name, bank_id)\n",
    "    cur.execute(query_find_prdtid, values)\n",
    "    product_id = cur.fetchone()[0]\n",
    "    join = product_tag[0].find(\"join_way\").text\n",
    "    for join_way in join_ways:\n",
    "        if join_way in join:\n",
    "            values = (product_id, code_id, join_ways[join_way])\n",
    "            cur.execute(query_find_join, values)\n",
    "            if cur.fetchone() == None:\n",
    "                cur.execute(query_join, values)\n",
    "conn.commit()"
   ]
  },
  {
   "cell_type": "code",
   "execution_count": null,
   "metadata": {},
   "outputs": [],
   "source": [
    "cur.execute(\"select * from queant.joinway as jw left join queant.product as prdt on prdt.product_id = jw.product_id right join queant.specificcode as spec on jw.scode_id = spec.scode_id;\")\n",
    "while True:\n",
    "    row = cur.fetchone()\n",
    "    if row == None:\n",
    "        break\n",
    "    print(row)\n"
   ]
  },
  {
   "cell_type": "code",
   "execution_count": 45,
   "metadata": {},
   "outputs": [],
   "source": [
    "conn.close()"
   ]
  }
 ],
 "metadata": {
  "kernelspec": {
   "display_name": "Python 3.10.5 64-bit (windows store)",
   "language": "python",
   "name": "python3"
  },
  "language_info": {
   "codemirror_mode": {
    "name": "ipython",
    "version": 3
   },
   "file_extension": ".py",
   "mimetype": "text/x-python",
   "name": "python",
   "nbconvert_exporter": "python",
   "pygments_lexer": "ipython3",
   "version": "3.10.5"
  },
  "orig_nbformat": 4,
  "vscode": {
   "interpreter": {
    "hash": "611e51c281b01e01eb3324e6e932249b5a8b9a0d77e1733eb0d846aad0887f09"
   }
  }
 },
 "nbformat": 4,
 "nbformat_minor": 2
}
