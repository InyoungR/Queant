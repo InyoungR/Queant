{
 "cells": [
  {
   "cell_type": "markdown",
   "metadata": {},
   "source": [
    "목표\n",
    "--------\n",
    "* url을 각각의 변수로 나누어서 실습한다.\n",
    "* erd를 보고 필요한 내용들을 파싱해본다.\n",
    "* 파싱한 데이터를 db에 저장한다."
   ]
  },
  {
   "cell_type": "code",
   "execution_count": 44,
   "metadata": {},
   "outputs": [],
   "source": [
    "#필요한 라이브러리 import\n",
    "import requests\n",
    "import urllib.request\n",
    "from bs4 import BeautifulSoup\n",
    "import xml.etree.ElementTree as ET\n",
    "from pymysql import NULL\n",
    "import pymysql\n",
    "import re"
   ]
  },
  {
   "cell_type": "code",
   "execution_count": 3,
   "metadata": {},
   "outputs": [],
   "source": [
    "conn = pymysql.connect(host=\"localhost\", user='queant', password='queant1234', db = 'queant', charset='utf8mb4')\n",
    "cur = conn.cursor()"
   ]
  },
  {
   "cell_type": "code",
   "execution_count": 3,
   "metadata": {},
   "outputs": [],
   "source": [
    "#api활용할 url부분\n",
    "\n",
    "#각 데이터 별 url 앞부분\n",
    "url_deposit = [\"https://finlife.fss.or.kr/finlifeapi/depositProductsSearch.xml?auth=\", \"https://finlife.fss.or.kr/finlifeapi/savingProductsSearch.xml?auth=\"]\n",
    "\n",
    "#발급받은 키\n",
    "api_key = \"47c0e868fdb16333d47d0e385641c3c0\"\n",
    "\n",
    "#권역코드\n",
    "code_front = \"&topFinGrpNo=\"\n",
    "code_bank = [\"020000\", \"030300\"]\n",
    "\n",
    "#페이지\n",
    "page_front = \"&pageNo=\"\n",
    "page_num = [\"1\", \"2\", \"3\", \"4\"]"
   ]
  },
  {
   "cell_type": "code",
   "execution_count": 50,
   "metadata": {},
   "outputs": [
    {
     "name": "stdout",
     "output_type": "stream",
     "text": [
      "https://finlife.fss.or.kr/finlifeapi/savingProductsSearch.xml?auth=47c0e868fdb16333d47d0e385641c3c0&topFinGrpNo=020000&pageNo=1\n"
     ]
    }
   ],
   "source": [
    "url = url_deposit[1] + api_key + code_front + code_bank[0] + page_front + page_num[0]\n",
    "print(url)\n",
    "data_str = urllib.request.urlopen(url).read().decode('euc-kr')\n",
    "data_xml = ET.fromstring(data_str)"
   ]
  },
  {
   "cell_type": "markdown",
   "metadata": {},
   "source": [
    "* 아래 코드는 예,적금 상품의 가입방법을 파싱하는 코드\n",
    "    * join_way 태그에 접근해서 데이터를 받는다.\n",
    "    * 기존의 데이터는 스마트폰, 인터넷, 영업점 등으로 표현되어있다.\n",
    "    * DB에는 공통코드를 통해 저장할 것이기 때문에 각각의 가입방법 존재유무를 파악해야한다.\n",
    "    * Api를 볼때 가입방법은 총 영업점, 인터넷, 스마트폰, 전화, 기타로 총 5가지이다.\n",
    "    * 각각의 문자열이 join_way 데이터에 있는지 확인하고 그 유무를 True, False로 배열에 저장할 것."
   ]
  },
  {
   "cell_type": "code",
   "execution_count": null,
   "metadata": {},
   "outputs": [],
   "source": [
    "for product_tag in data_xml[5]:\n",
    "    join = product_tag[0].find(\"join_way\").text\n",
    "    print(join)\n",
    "    join_parsing = [\"영업점\" in join, \"인터넷\" in join, \"스마트폰\" in join, \"전화\" in join, \"기타\" in join]\n",
    "    print(join_parsing)\n",
    "    print()"
   ]
  },
  {
   "cell_type": "markdown",
   "metadata": {},
   "source": [
    "* 아래 코드는 예,적금 상품의 가입 나이 제한을 파싱하는 코드\n",
    "    * 데이터들을 보았을때 일정한 형식이 없다.\n",
    "    * 이를 어떻게 파싱할지 계획하는 것이 중요.\n",
    "\n",
    "예외적인 문구들\n",
    "- 만19세~만34세 개인 및 개인사업자\n",
    "- 만 10세 이하 자녀를 둔 부, 모\n",
    "- 1954년 이전출생자 및 비과세종합저축가입대상자(만64세이상/국가유공자/국민기초생활보장법에의한수급자/장애인/독립유공자과그유족또는가족/고엽제후유증환자 및 5.18민주화운동부상자)\n",
    "\n",
    "\n",
    "\n",
    "<구상 1>\n",
    "1. 과정\n",
    "    1. 단어들 사이의 공백을 모두 없애서 다 붙인다.\n",
    "    2. 만, 세 단어가 들어가는 문장들만 추출\n",
    "    3. \"이상\"이라는 단어가 들어가는 문장에서 \"만oo세이상\" 부분 문자열의 oo부분만 추출한다.\n",
    "    4. 마찬가지로 \"이하\", \"초과\" 단어가 들어가는 문장에서 나이만 뽑아온다.\n",
    "2. 문제점\n",
    "    1. 만 13세~ 만 24세라는 조건에서는 추출 불가능\n",
    "    2. ~이상 ~이하 문구에서 추출하면 나이의 최소는 잘 추출되지만 최대 부분은 '만 ~세이상 만~' 식으로 추출됨.\n",
    "\n",
    "<구상 2>\n",
    "1. 과정\n",
    "    1. 단어들 사이의 공백을 모두 없애서 다 붙인다.\n",
    "    2. 문자열에서 숫자들만 추출한다.\n",
    "2. 문제점\n",
    "    1. 문자열에 있는 숫자가 무조건 나이라는 보장이 없다.\n",
    "\n",
    "결론\n",
    "- 거의 대부분의 조건들이 나이를 표기할 때 만~세 형식으로 사용\n",
    "- 모든 만~세 문자열의 사이 부분을 추출해서 배열에 저장\n",
    "- 배열길이가 1이면 이상, 이하, 미만, 초과 등의 단어에 따라 max,min값 저장\n",
    "- 배열길이가 1이 아니면 정렬 후 앞의 데이터를 min에 뒤에 데이터를 max에 저장\n",
    "\n",
    "- 해결해야할 부분: 만 ~세 미만 만~세 이상 일 경우에는 미만에서 '만'이라는 단어를 판단해서 오류 발생"
   ]
  },
  {
   "cell_type": "code",
   "execution_count": 169,
   "metadata": {},
   "outputs": [],
   "source": [
    "def max_min_join(join_member):\n",
    "    min_age = NULL\n",
    "    max_age = NULL\n",
    "    join_member = join_member.replace(\" \", \"\")\n",
    "    if \"만\" in join_member and \"세\" in join_member:\n",
    "        ages = re.findall('만(.+?)세', join_member)\n",
    "        ages = list(map(int, ages))\n",
    "        if len(ages) == 1:\n",
    "            if \"이상\" in join_member:\n",
    "                min_age = ages[0]\n",
    "            elif \"초과\" in join_member:\n",
    "                min_age = ages[0] + 1\n",
    "            elif \"이하\" in join_member:\n",
    "                max_age = ages[0]\n",
    "            elif \"미만\" in join_member:\n",
    "                max_age = ages[0] - 1\n",
    "        else:\n",
    "            ages.sort()\n",
    "            min_age = int(ages[0])\n",
    "            max_age = int(ages[1])\n",
    "    return min_age, max_age\n",
    "\n",
    "        "
   ]
  },
  {
   "cell_type": "code",
   "execution_count": null,
   "metadata": {},
   "outputs": [],
   "source": [
    "for product_tag in data_xml[5]:\n",
    "    join_deny = product_tag[0].find(\"join_deny\").text\n",
    "    join_member = product_tag[0].find(\"join_member\").text\n",
    "    min, max = max_min_join(join_member)\n",
    "    print(min, max)"
   ]
  },
  {
   "cell_type": "markdown",
   "metadata": {},
   "source": [
    "* 아래 코드는 가입 최소금액, 최대금액을 파싱할 코드\n",
    "    * 어떻게 데이터를 뽑아내지...?"
   ]
  },
  {
   "cell_type": "code",
   "execution_count": null,
   "metadata": {},
   "outputs": [],
   "source": [
    "for product_tag in data_xml[5]:\n",
    "    etc = product_tag[0].find(\"etc_note\").text\n",
    "    print(etc)\n",
    "    print()"
   ]
  },
  {
   "cell_type": "code",
   "execution_count": null,
   "metadata": {},
   "outputs": [],
   "source": [
    "for product_tag in data_xml[5]:\n",
    "    special = product_tag[0].find(\"spcl_cnd\").text\n",
    "    print(special)\n",
    "    print()"
   ]
  }
 ],
 "metadata": {
  "kernelspec": {
   "display_name": "Python 3.10.5 64-bit (windows store)",
   "language": "python",
   "name": "python3"
  },
  "language_info": {
   "codemirror_mode": {
    "name": "ipython",
    "version": 3
   },
   "file_extension": ".py",
   "mimetype": "text/x-python",
   "name": "python",
   "nbconvert_exporter": "python",
   "pygments_lexer": "ipython3",
   "version": "3.10.5"
  },
  "orig_nbformat": 4,
  "vscode": {
   "interpreter": {
    "hash": "611e51c281b01e01eb3324e6e932249b5a8b9a0d77e1733eb0d846aad0887f09"
   }
  }
 },
 "nbformat": 4,
 "nbformat_minor": 2
}
