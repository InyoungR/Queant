{
 "cells": [
  {
   "cell_type": "markdown",
   "metadata": {},
   "source": [
    "목표\n",
    "--------\n",
    "* url을 각각의 변수로 나누어서 실습한다.\n",
    "* erd를 보고 필요한 내용들을 파싱해본다.\n",
    "* 파싱한 데이터를 db에 저장한다."
   ]
  },
  {
   "cell_type": "code",
   "execution_count": 49,
   "metadata": {},
   "outputs": [],
   "source": [
    "#필요한 라이브러리 import\n",
    "import requests\n",
    "import urllib.request\n",
    "from bs4 import BeautifulSoup\n",
    "import xml.etree.ElementTree as ET\n",
    "from pymysql import NULL\n",
    "import pymysql\n",
    "import re\n",
    "import sys"
   ]
  },
  {
   "cell_type": "code",
   "execution_count": 50,
   "metadata": {},
   "outputs": [],
   "source": [
    "conn = pymysql.connect(host=\"localhost\", user='queant', password='queant1234', db = 'queant', charset='utf8mb4')\n",
    "cur = conn.cursor()"
   ]
  },
  {
   "cell_type": "code",
   "execution_count": 51,
   "metadata": {},
   "outputs": [],
   "source": [
    "#api활용할 url부분\n",
    "\n",
    "#각 데이터 별 url 앞부분\n",
    "url_deposit = [\"https://finlife.fss.or.kr/finlifeapi/depositProductsSearch.xml?auth=\", \"https://finlife.fss.or.kr/finlifeapi/savingProductsSearch.xml?auth=\"]\n",
    "\n",
    "#발급받은 키\n",
    "api_key = \"47c0e868fdb16333d47d0e385641c3c0\"\n",
    "\n",
    "#권역코드\n",
    "code_front = \"&topFinGrpNo=\"\n",
    "code_bank = [\"020000\", \"030300\"]\n",
    "\n",
    "#페이지\n",
    "page_front = \"&pageNo=\"\n",
    "page_num = [\"1\", \"2\", \"3\", \"4\"]"
   ]
  },
  {
   "cell_type": "code",
   "execution_count": 89,
   "metadata": {},
   "outputs": [
    {
     "name": "stdout",
     "output_type": "stream",
     "text": [
      "https://finlife.fss.or.kr/finlifeapi/savingProductsSearch.xml?auth=47c0e868fdb16333d47d0e385641c3c0&topFinGrpNo=030300&pageNo=1\n"
     ]
    }
   ],
   "source": [
    "url = url_deposit[1] + api_key + code_front + code_bank[1] + page_front + page_num[0]\n",
    "print(url)\n",
    "data_str = urllib.request.urlopen(url).read().decode('euc-kr')\n",
    "data_xml = ET.fromstring(data_str)"
   ]
  },
  {
   "cell_type": "markdown",
   "metadata": {},
   "source": [
    "* 아래 코드는 예,적금 상품의 가입방법을 파싱하는 코드\n",
    "    * join_way 태그에 접근해서 데이터를 받는다.\n",
    "    * 기존의 데이터는 스마트폰, 인터넷, 영업점 등으로 표현되어있다.\n",
    "    * DB에는 공통코드를 통해 저장할 것이기 때문에 각각의 가입방법 존재유무를 파악해야한다.\n",
    "    * Api를 볼때 가입방법은 총 영업점, 인터넷, 스마트폰, 전화, 기타로 총 5가지이다.\n",
    "    * 각각의 문자열이 join_way 데이터에 있는지 확인하고 그 유무를 True, False로 배열에 저장할 것."
   ]
  },
  {
   "cell_type": "code",
   "execution_count": null,
   "metadata": {},
   "outputs": [],
   "source": [
    "for product_tag in data_xml[5]:\n",
    "    join = product_tag[0].find(\"join_way\").text\n",
    "    print(join)\n",
    "    join_parsing = [\"영업점\" in join, \"인터넷\" in join, \"스마트폰\" in join, \"전화\" in join, \"기타\" in join]\n",
    "    print(join_parsing)\n",
    "    print()"
   ]
  },
  {
   "cell_type": "markdown",
   "metadata": {},
   "source": [
    "* 아래 코드는 예,적금 상품의 가입 나이 제한을 파싱하는 코드\n",
    "    * 데이터들을 보았을때 일정한 형식이 없다.\n",
    "    * 이를 어떻게 파싱할지 계획하는 것이 중요.\n",
    "\n",
    "예외적인 문구들\n",
    "- 만19세~만34세 개인 및 개인사업자\n",
    "- 만 10세 이하 자녀를 둔 부, 모\n",
    "- 1954년 이전출생자 및 비과세종합저축가입대상자(만64세이상/국가유공자/국민기초생활보장법에의한수급자/장애인/독립유공자과그유족또는가족/고엽제후유증환자 및 5.18민주화운동부상자)\n",
    "- 만 20~30대만 가입가능 (나이제한)\n",
    "- 1~19세\n",
    "\n",
    "\n",
    "<구상 1>\n",
    "1. 과정\n",
    "    1. 단어들 사이의 공백을 모두 없애서 다 붙인다.\n",
    "    2. 만, 세 단어가 들어가는 문장들만 추출\n",
    "    3. \"이상\"이라는 단어가 들어가는 문장에서 \"만oo세이상\" 부분 문자열의 oo부분만 추출한다.\n",
    "    4. 마찬가지로 \"이하\", \"초과\" 단어가 들어가는 문장에서 나이만 뽑아온다.\n",
    "2. 문제점\n",
    "    1. 만 13세~ 만 24세라는 조건에서는 추출 불가능\n",
    "    2. ~이상 ~이하 문구에서 추출하면 나이의 최소는 잘 추출되지만 최대 부분은 '만 ~세이상 만~' 식으로 추출됨.\n",
    "\n",
    "<구상 2>\n",
    "1. 과정\n",
    "    1. 단어들 사이의 공백을 모두 없애서 다 붙인다.\n",
    "    2. 문자열에서 숫자들만 추출한다.\n",
    "2. 문제점\n",
    "    1. 문자열에 있는 숫자가 무조건 나이라는 보장이 없다.\n",
    "\n",
    "결론\n",
    "- 거의 대부분의 조건들이 나이를 표기할 때 만~세 형식으로 사용\n",
    "- 모든 만~세 문자열의 사이 부분을 추출해서 배열에 저장\n",
    "- 배열길이가 1이면 이상, 이하, 미만, 초과 등의 단어에 따라 max,min값 저장\n",
    "- 배열길이가 1이 아니면 정렬 후 앞의 데이터를 min에 뒤에 데이터를 max에 저장\n",
    "\n",
    "- 해결해야할 부분: 만 ~세 미만 만~세 이상 일 경우에는 미만에서 '만'이라는 단어를 판단해서 오류 발생"
   ]
  },
  {
   "cell_type": "code",
   "execution_count": 6,
   "metadata": {},
   "outputs": [],
   "source": [
    "def max_min_join(join_member):\n",
    "    min_age = None\n",
    "    max_age = None\n",
    "    join_member = join_member.replace(\" \", \"\")\n",
    "    if \"만\" in join_member and \"세\" in join_member:\n",
    "        ages = re.findall('만(.+?)세', join_member)\n",
    "        ages = list(map(int, ages))\n",
    "        if len(ages) == 1:\n",
    "            if \"이상\" in join_member:\n",
    "                min_age = ages[0]\n",
    "            elif \"초과\" in join_member:\n",
    "                min_age = ages[0] + 1\n",
    "            elif \"이하\" in join_member:\n",
    "                max_age = ages[0]\n",
    "            elif \"미만\" in join_member:\n",
    "                max_age = ages[0] - 1\n",
    "        else:\n",
    "            ages.sort()\n",
    "            min_age = int(ages[0])\n",
    "            max_age = int(ages[1])\n",
    "    return min_age, max_age"
   ]
  },
  {
   "cell_type": "code",
   "execution_count": null,
   "metadata": {},
   "outputs": [],
   "source": [
    "for product_tag in data_xml[5]:\n",
    "    join_deny = product_tag[0].find(\"join_deny\").text\n",
    "    join_member = product_tag[0].find(\"join_member\").text\n",
    "    min, max = max_min_join(join_member)\n",
    "    print(join_member)\n",
    "    print(min, max)\n",
    "    print()"
   ]
  },
  {
   "cell_type": "markdown",
   "metadata": {},
   "source": [
    "* 아래 코드는 가입 최소금액, 최대금액, 최대기간, 최소기간을 파싱할 코드\n",
    "    * 가입 최소, 최대기간은 option 내용들로 활용할 예정\n",
    "\n",
    "    문구들\n",
    "    - 계약금액 1백만원이상\n",
    "    - 가입금액 : 10만원 이상\n",
    "    - 최소가입금액: 10만원 이상\n",
    "    - 예금가입금액 10만원이상\n",
    "    - 1인당 가입금액 : 10만원 이상\n",
    "    - 계좌당 가입 최저한도 : 100만원\n",
    "    - 가입한도: 5 백만원이상\n",
    "    - 가입한도: 3백만원이상~3억원이하\n",
    "    - 가입금액 : 1백만원이상 최고 50백만원(1인1계좌)\n",
    "    - 가입금액 : 1천만원 이상 ~ 4천만원 이하\n",
    "    - 최저 100만원 이상\n",
    "    - 10만원이상 가입가능\n",
    "    - 보호금융상품 1인당 최고 5천만원\n",
    "    - 1.최소금액 : 10만원 이상  2.1인당 가입금액 한도 : 4,870만원\n",
    "    - 1인당 가입한도:5천만원\n",
    "    - 1계좌당가입한도:월50만원(최저1만원이상)\n",
    "\n",
    "    예외적인 문구\n",
    "    - 만65세이상비과세종합저축5,000만원가능\n",
    "    - 예금자보호법에의해원리금기준5,000만원까지보호\n",
    "\n",
    "\n",
    "\n",
    "\n",
    "    필수 문구: 계약금액, 최소금액, 한도, 가입금액, 최저, 이상, 최대, 이하\n",
    "\n",
    "    파싱방법\n",
    "    1. 필수 문구가 아닌것들은 모두 None값 반환\n",
    "    2. 00만원, 00천원, 00억원 등등 숫자+~원 으로 구성된 문자열 부분을 파싱 후 costs 배열에 저장\n",
    "    3. 글로 쓰여져 있는 가격을 숫자로 반환하는 함수 구성 후 costs값들 int형으로 변환\n",
    "    4. 최대 최소값 추출\n",
    "    5. 최대, 최소 값이 같다면 \"이상\", \"이하\" 등등 조건문으로 최대값인지 최소값인지 판단."
   ]
  },
  {
   "cell_type": "code",
   "execution_count": 16,
   "metadata": {},
   "outputs": [],
   "source": [
    "#string형태의 가격을 int형으로 변환\n",
    "def change_cost(cost):\n",
    "    multi = 1\n",
    "    if \"억원\" in cost:\n",
    "        multi = 100000000\n",
    "    elif \"천만원\" in cost:\n",
    "        multi = 10000000\n",
    "    elif \"백만원\" in cost:\n",
    "        multi = 1000000\n",
    "    elif \"만원\" in cost:\n",
    "        multi = 10000\n",
    "    elif \"천원\" in cost:\n",
    "        multi = 1000\n",
    "    \n",
    "    number = 0\n",
    "    for ch in cost:\n",
    "        if ch >= '0' and ch <= '9':\n",
    "            number = number * 10 + int(ch)\n",
    "    return number*multi"
   ]
  },
  {
   "cell_type": "code",
   "execution_count": 43,
   "metadata": {},
   "outputs": [],
   "source": [
    "#최대 최소금액 추출\n",
    "def max_min_cost(etc_note):\n",
    "    min_cost = None\n",
    "    max_cost = None\n",
    "    etc_note = etc_note.replace(\" \", \"\")\n",
    "    etc_note = etc_note.replace(\"\\n\",\"\")\n",
    "    etc_note = etc_note.replace(\",\",\"\")\n",
    "    print(etc_note)\n",
    "    tags = [\"계약금액\",\"최소금액\",\"한도\",\"가입금액\",\"최저\",\"이상\",\"최대\",\"이하\",\"최고\"]\n",
    "    \n",
    "    #기본적인 문구들이 포함되어있지 않으면 가격과 무관하므로 return 해준다.\n",
    "    filter1 = 0\n",
    "    for tag in tags:\n",
    "        if tag in etc_note:\n",
    "            filter1 = 1\n",
    "           \n",
    "    if filter1 == 0:\n",
    "        return min_cost, max_cost\n",
    "    \n",
    "    flag = 0 #숫자가 등장하면 0이 됨\n",
    "    costs = []\n",
    "    costs_num = []\n",
    "    cost = \"\"\n",
    "    for i in etc_note:\n",
    "        if i >= '0' and i <= '9' and flag == 0: #숫자가 처음 등장했을 경우\n",
    "            flag = 1\n",
    "            cost += i\n",
    "            continue\n",
    "        if flag == 1:\n",
    "            if i >= '0' and i <= '9':\n",
    "                cost += i\n",
    "            elif i == '만' or i == '억' or i == '천' or i == '백' or i == '십':\n",
    "                cost += i\n",
    "            elif i == '원':\n",
    "                cost += i\n",
    "                flag = 0\n",
    "                costs.append(cost)\n",
    "                cost = \"\"\n",
    "            else:\n",
    "                flag = 0\n",
    "                cost = \"\"\n",
    "    for n in costs:\n",
    "        costs_num.append(change_cost(n))\n",
    "    if not costs_num:\n",
    "        return min_cost, max_cost\n",
    "    min_cost = min(costs_num)\n",
    "    max_cost = max(costs_num)\n",
    "    \n",
    "    if min_cost == max_cost:\n",
    "        if \"이상\" in etc_note:\n",
    "            max_cost = None\n",
    "        elif \"이하\" in etc_note or \"미만\" in etc_note:\n",
    "            min_cost = None\n",
    "        elif \"한도\":\n",
    "            min_cost = None\n",
    "    \n",
    "    return min_cost, max_cost"
   ]
  },
  {
   "cell_type": "code",
   "execution_count": null,
   "metadata": {},
   "outputs": [],
   "source": [
    "for product_tag in data_xml[5]:\n",
    "    etc = product_tag[0].find(\"etc_note\").text\n",
    "    min_cost, max_cost = max_min_cost(etc)\n",
    "    print(min_cost, max_cost)"
   ]
  },
  {
   "cell_type": "markdown",
   "metadata": {},
   "source": [
    "* 아래 코드는 우대사항을 어떻게 파싱할지 구상하는 코드  \n",
    "    우선적으로 어떤 우대조건들이 있나 파악\n",
    "\n",
    "* 기획\n",
    "    * 공통코드 table을 활용할 예정\n",
    "    * 자연어적인 요소가 너무 많아서 해시태그 느낌으로 갈까 생각중\n",
    "    * 특정 조건의 우대금리가 몇인지는 전체 조건을 읽어서 파악\n",
    "    * 다만 상품을 검색할때 특정 우대조건이 있는지 판단하기는 가능\n",
    "\n",
    "* 우대조건 사항\n",
    "    * 첫 거래\n",
    "    * 카드 가입\n",
    "    * 재예치\n",
    "\n",
    "\n",
    "* 파싱기획\n",
    "    * 전용이란 단어 빼기\n",
    "\n",
    "    * 비대면\n",
    "    * 모바일\n",
    "    * 급여\n",
    "    * 연금\n",
    "    * 공과금\n",
    "    * 재예치\n",
    "    * 입출금통장\n",
    "    * 첫거래\n",
    "    * 카드"
   ]
  },
  {
   "cell_type": "code",
   "execution_count": 87,
   "metadata": {},
   "outputs": [],
   "source": [
    "def spcl_parsing(spcl):\n",
    "    special_list = [\"비대면\",\"모바일\",\"급여\",\"연금\",\"공과금\",\"재예치\",\"입출금통장\",\"첫거래\",\"카드\"]\n",
    "    specials=[]\n",
    "    if \"전용\" in spcl:\n",
    "        return specials\n",
    "    for tag in special_list:\n",
    "        if tag in spcl:\n",
    "            specials.append(tag)\n",
    "    print(specials)"
   ]
  },
  {
   "cell_type": "code",
   "execution_count": null,
   "metadata": {},
   "outputs": [],
   "source": [
    "for product_tag in data_xml[5]:\n",
    "    special = product_tag[0].find(\"spcl_cnd\").text\n",
    "    spcl_parsing(special)"
   ]
  },
  {
   "cell_type": "markdown",
   "metadata": {},
   "source": [
    "* 아래 코드는 옵션 부분들을 어떻게 파싱할지 구상하는 코드\n",
    "    * 필요한 변수\n",
    "        * base_rate: 기본 금리\n",
    "        * save_trm: 저축 기간\n",
    "        * rate_type: 금리 유형명 (단리, 복리)\n",
    "        * rsrv_type: 저축방식 (자유적립, 정액적립)\n",
    "    * 공통코드 활용 안하기 때문에 직접 저장하면 된다."
   ]
  },
  {
   "cell_type": "code",
   "execution_count": null,
   "metadata": {},
   "outputs": [],
   "source": [
    "for product_tag in data_xml[5]:\n",
    "    print(\"new prdt\")\n",
    "    for option_tag in product_tag[1]:\n",
    "        rate = option_tag.find(\"intr_rate\").text\n",
    "        save_term = option_tag.find(\"save_trm\").text\n",
    "        rate_type = option_tag.find(\"intr_rate_type_nm\").text\n",
    "        rsrv_type = option_tag.find(\"rsrv_type_nm\").text\n",
    "        print(rate, save_term, rate_type, rsrv_type)"
   ]
  }
 ],
 "metadata": {
  "kernelspec": {
   "display_name": "Python 3.10.5 64-bit (windows store)",
   "language": "python",
   "name": "python3"
  },
  "language_info": {
   "codemirror_mode": {
    "name": "ipython",
    "version": 3
   },
   "file_extension": ".py",
   "mimetype": "text/x-python",
   "name": "python",
   "nbconvert_exporter": "python",
   "pygments_lexer": "ipython3",
   "version": "3.10.5"
  },
  "orig_nbformat": 4,
  "vscode": {
   "interpreter": {
    "hash": "611e51c281b01e01eb3324e6e932249b5a8b9a0d77e1733eb0d846aad0887f09"
   }
  }
 },
 "nbformat": 4,
 "nbformat_minor": 2
}
