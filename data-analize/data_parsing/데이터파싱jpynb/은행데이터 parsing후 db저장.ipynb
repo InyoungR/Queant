{
 "cells": [
  {
   "cell_type": "code",
   "execution_count": 31,
   "metadata": {},
   "outputs": [],
   "source": [
    "#필요한 라이브러리 import\n",
    "import requests\n",
    "import urllib.request\n",
    "from bs4 import BeautifulSoup\n",
    "import xml.etree.ElementTree as ET\n",
    "from pymysql import NULL\n",
    "import pymysql\n",
    "import re"
   ]
  },
  {
   "cell_type": "markdown",
   "metadata": {},
   "source": [
    "create product table\n",
    "```sql\n",
    "CREATE TABLE `queant`.`bank` (\n",
    "  `bank_id` INT NOT NULL,\n",
    "  `scode_id` VARCHAR(8) NOT NULL,\n",
    "  `bank_name` VARCHAR(50) NOT NULL,\n",
    "  `homepage` VARCHAR(100) NULL,\n",
    "  `tel` VARCHAR(30) NULL,\n",
    "  `picture` VARCHAR(255) NULL,\n",
    "  PRIMARY KEY (`bank_id`));\n",
    "```"
   ]
  },
  {
   "cell_type": "code",
   "execution_count": 43,
   "metadata": {},
   "outputs": [
    {
     "name": "stdout",
     "output_type": "stream",
     "text": [
      "http://finlife.fss.or.kr/finlifeapi/companySearch.xml?auth=47c0e868fdb16333d47d0e385641c3c0&topFinGrpNo=030300&pageNo=1\n"
     ]
    }
   ],
   "source": [
    "bankcode = [\"020000\",\"030300\"]\n",
    "banktype_num = 1\n",
    "url = \"http://finlife.fss.or.kr/finlifeapi/companySearch.xml?auth=47c0e868fdb16333d47d0e385641c3c0&topFinGrpNo=\" + bankcode[banktype_num]+ \"&pageNo=1\"\n",
    "print(url)"
   ]
  },
  {
   "cell_type": "code",
   "execution_count": 44,
   "metadata": {},
   "outputs": [],
   "source": [
    "data_str = urllib.request.urlopen(url).read().decode('euc-kr')\n",
    "data_xml = ET.fromstring(data_str)"
   ]
  },
  {
   "cell_type": "code",
   "execution_count": 34,
   "metadata": {},
   "outputs": [],
   "source": [
    "conn = pymysql.connect(host=\"localhost\", user='queant', password='queant1234', db = 'queant', charset='utf8mb4')\n",
    "cur = conn.cursor()"
   ]
  },
  {
   "cell_type": "code",
   "execution_count": 35,
   "metadata": {},
   "outputs": [
    {
     "name": "stdout",
     "output_type": "stream",
     "text": [
      "C\n"
     ]
    }
   ],
   "source": [
    "cur.execute(\"SELECT code_id FROM queant.commoncode where code_value = \\\"은행 분류\\\"\")\n",
    "\n",
    "row = cur.fetchone()\n",
    "if row != None:\n",
    "    common_code_bank = row[0]\n",
    "print(common_code_bank)"
   ]
  },
  {
   "cell_type": "code",
   "execution_count": 36,
   "metadata": {},
   "outputs": [
    {
     "name": "stdout",
     "output_type": "stream",
     "text": [
      "{'은행': 'C001', '저축은행': 'C002'}\n"
     ]
    }
   ],
   "source": [
    "query_find_bank = \"\"\"SELECT * FROM queant.specificcode where code_id = (%s)\"\"\"\n",
    "cur.execute(query_find_bank,common_code_bank)\n",
    "bank_types = {}\n",
    "while True:\n",
    "    row = cur.fetchone()\n",
    "    if row == None:\n",
    "        break\n",
    "    bank_types[row[2]] = row[0]\n",
    "print(bank_types)"
   ]
  },
  {
   "cell_type": "code",
   "execution_count": 41,
   "metadata": {},
   "outputs": [],
   "source": [
    "def change_tel(tel):\n",
    "    if len(tel) == 8:\n",
    "        tel_front = tel[:4]\n",
    "        tel_back = tel[4:]\n",
    "        tel = tel_front + \"-\" + tel_back\n",
    "    elif len(tel) == 9:\n",
    "        tel_front = tel[:2]\n",
    "        tel_middle = tel[2:5]\n",
    "        tel_back = tel[5:]\n",
    "        tel = tel_front + '-' + tel_middle + '-' + tel_back\n",
    "    elif len(tel) == 10 and tel[0] == '0' and tel[1] == '2':\n",
    "        tel_front = tel[:2]\n",
    "        tel_middle = tel[2:6]\n",
    "        tel_back = tel[6:]\n",
    "        tel = tel_front + '-' + tel_middle + '-' + tel_back\n",
    "    elif len(tel) == 10:\n",
    "        tel_front = tel[:3]\n",
    "        tel_middle = tel[3:6]\n",
    "        tel_back = tel[6:]\n",
    "        tel = tel_front + '-' + tel_middle + '-' + tel_back\n",
    "    elif len(tel) == 11:\n",
    "        tel_front = tel[:3]\n",
    "        tel_middle = tel[3:7]\n",
    "        tel_back = tel[7:]\n",
    "        tel = tel_front + '-' + tel_middle + '-' + tel_back\n",
    "    return tel"
   ]
  },
  {
   "cell_type": "code",
   "execution_count": 45,
   "metadata": {},
   "outputs": [],
   "source": [
    "query_bank_search = \"\"\"select * from queant.bank where bank_id = (%s);\"\"\" #중복체크 확인 쿼리문\n",
    "query_bank = \"\"\"INSERT INTO queant.bank (bank_id, scode_id, bank_name, homepage, tel) values (%s,%s,%s,%s,%s);\"\"\" #데이터 insert 쿼리문\n",
    "\n",
    "\n",
    "for bank_tag in data_xml[5]:\n",
    "    bank_code = bank_tag[0].find(\"fin_co_no\").text\n",
    "    bank_name = bank_tag[0].find(\"kor_co_nm\").text\n",
    "    if banktype_num == 0:\n",
    "        bank_type = bank_types[\"은행\"]\n",
    "    else:\n",
    "        bank_type = bank_types[\"저축은행\"]\n",
    "    homepage = bank_tag[0].find(\"homp_url\").text\n",
    "    tel = change_tel(bank_tag[0].find(\"cal_tel\").text)\n",
    "    cur.execute(query_bank_search, bank_code)\n",
    "    if cur.fetchone() == None:\n",
    "        values = (bank_code, bank_type, bank_name, homepage, tel)\n",
    "        cur.execute(query_bank, values)\n",
    "        \n",
    "conn.commit()\n",
    "    "
   ]
  },
  {
   "cell_type": "code",
   "execution_count": 29,
   "metadata": {},
   "outputs": [],
   "source": [
    "conn.close()"
   ]
  }
 ],
 "metadata": {
  "kernelspec": {
   "display_name": "Python 3.10.5 64-bit (windows store)",
   "language": "python",
   "name": "python3"
  },
  "language_info": {
   "codemirror_mode": {
    "name": "ipython",
    "version": 3
   },
   "file_extension": ".py",
   "mimetype": "text/x-python",
   "name": "python",
   "nbconvert_exporter": "python",
   "pygments_lexer": "ipython3",
   "version": "3.10.5"
  },
  "orig_nbformat": 4,
  "vscode": {
   "interpreter": {
    "hash": "611e51c281b01e01eb3324e6e932249b5a8b9a0d77e1733eb0d846aad0887f09"
   }
  }
 },
 "nbformat": 4,
 "nbformat_minor": 2
}
