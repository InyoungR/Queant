{
 "cells": [
  {
   "cell_type": "code",
   "execution_count": 60,
   "metadata": {},
   "outputs": [],
   "source": [
    "#필요한 라이브러리 import\n",
    "import requests\n",
    "import urllib.request\n",
    "from bs4 import BeautifulSoup\n",
    "import xml.etree.ElementTree as ET\n",
    "from pymysql import NULL\n",
    "import pymysql\n",
    "import re"
   ]
  },
  {
   "cell_type": "markdown",
   "metadata": {},
   "source": [
    "create product table\n",
    "```sql\n",
    "CREATE TABLE `queant`.`bank` (\n",
    "  `bank_id` INT NOT NULL,\n",
    "  `code_id` VARCHAR(2) NOT NULL,\n",
    "  `scode_id` INT NOT NULL,\n",
    "  `bank_name` VARCHAR(50) NOT NULL,\n",
    "  `homepage` VARCHAR(100) NULL,\n",
    "  `tel` VARCHAR(30) NULL,\n",
    "  `picture` INT NULL,\n",
    "  PRIMARY KEY (`bank_id`));\n",
    "```"
   ]
  },
  {
   "cell_type": "code",
   "execution_count": 59,
   "metadata": {},
   "outputs": [
    {
     "name": "stdout",
     "output_type": "stream",
     "text": [
      "http://finlife.fss.or.kr/finlifeapi/companySearch.xml?auth=47c0e868fdb16333d47d0e385641c3c0&topFinGrpNo=030300&pageNo=1\n"
     ]
    }
   ],
   "source": [
    "bankcode = [\"020000\",\"030300\"]\n",
    "banktype_num = 1\n",
    "url = \"http://finlife.fss.or.kr/finlifeapi/companySearch.xml?auth=47c0e868fdb16333d47d0e385641c3c0&topFinGrpNo=\" + bankcode[banktype_num]+ \"&pageNo=1\"\n",
    "print(url)"
   ]
  },
  {
   "cell_type": "code",
   "execution_count": 61,
   "metadata": {},
   "outputs": [],
   "source": [
    "data_str = urllib.request.urlopen(url).read().decode('euc-kr')\n",
    "data_xml = ET.fromstring(data_str)"
   ]
  },
  {
   "cell_type": "code",
   "execution_count": 62,
   "metadata": {},
   "outputs": [],
   "source": [
    "conn = pymysql.connect(host=\"localhost\", user='queant', password='queant1234', db = 'queant', charset='utf8mb4')\n",
    "cur = conn.cursor()"
   ]
  },
  {
   "cell_type": "code",
   "execution_count": 63,
   "metadata": {},
   "outputs": [],
   "source": [
    "cur.execute(\"SELECT code_id FROM queant.commoncode where code_value = \\\"은행 분류\\\"\")\n",
    "\n",
    "row = cur.fetchone()\n",
    "if row != None:\n",
    "    common_code_bank = row[0] #D가 저장됨"
   ]
  },
  {
   "cell_type": "code",
   "execution_count": 64,
   "metadata": {},
   "outputs": [],
   "source": [
    "query_find_bank = \"\"\"SELECT * FROM queant.specificcode where code_id = (%s)\"\"\"\n",
    "cur.execute(query_find_bank,common_code_bank)\n",
    "bank_types = {}\n",
    "while True:\n",
    "    row = cur.fetchone()\n",
    "    if row == None:\n",
    "        break\n",
    "    bank_types[row[2]] = int(row[0])"
   ]
  },
  {
   "cell_type": "code",
   "execution_count": 65,
   "metadata": {},
   "outputs": [],
   "source": [
    "query_bank_search = \"\"\"select * from queant.bank where bank_id = (%s);\"\"\" #중복체크 확인 쿼리문\n",
    "query_bank = \"\"\"INSERT INTO queant.bank (bank_id, code_id, scode_id, bank_name, homepage, tel) values (%s,%s,%s,%s,%s,%s);\"\"\" #데이터 insert 쿼리문\n",
    "\n",
    "\n",
    "for bank_tag in data_xml[5]:\n",
    "    bank_code = bank_tag[0].find(\"fin_co_no\").text\n",
    "    bank_name = bank_tag[0].find(\"kor_co_nm\").text\n",
    "    if banktype_num == 0:\n",
    "        bank_type = bank_types[\"은행\"]\n",
    "    else:\n",
    "        bank_type = bank_types[\"저축은행\"]\n",
    "    homepage = bank_tag[0].find(\"homp_url\").text\n",
    "    tel = bank_tag[0].find(\"cal_tel\").text\n",
    "    cur.execute(query_bank_search, bank_code)\n",
    "    if cur.fetchone() == None:\n",
    "        values = (bank_code, common_code_bank, bank_type, bank_name, homepage, tel)\n",
    "        cur.execute(query_bank, values)\n",
    "        \n",
    "conn.commit()\n",
    "    "
   ]
  },
  {
   "cell_type": "code",
   "execution_count": 66,
   "metadata": {},
   "outputs": [],
   "source": [
    "conn.close()"
   ]
  }
 ],
 "metadata": {
  "kernelspec": {
   "display_name": "Python 3.10.5 64-bit (windows store)",
   "language": "python",
   "name": "python3"
  },
  "language_info": {
   "codemirror_mode": {
    "name": "ipython",
    "version": 3
   },
   "file_extension": ".py",
   "mimetype": "text/x-python",
   "name": "python",
   "nbconvert_exporter": "python",
   "pygments_lexer": "ipython3",
   "version": "3.10.5"
  },
  "orig_nbformat": 4,
  "vscode": {
   "interpreter": {
    "hash": "611e51c281b01e01eb3324e6e932249b5a8b9a0d77e1733eb0d846aad0887f09"
   }
  }
 },
 "nbformat": 4,
 "nbformat_minor": 2
}
