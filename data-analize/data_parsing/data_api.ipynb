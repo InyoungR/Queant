{
 "cells": [
  {
   "cell_type": "markdown",
   "metadata": {},
   "source": [
    "실습 목표\n",
    "------------\n",
    "* openAPI를 활용해서 데이터를 가져온다.\n",
    "* xml데이터를 활용해서 필요한 정보를 뽑아내는 연습\n",
    "* 필요한 데이터만 모두 가져오기"
   ]
  },
  {
   "cell_type": "code",
   "execution_count": 1,
   "metadata": {},
   "outputs": [],
   "source": [
    "import requests\n",
    "import urllib.request\n",
    "from bs4 import BeautifulSoup\n",
    "import xml.etree.ElementTree as ET"
   ]
  },
  {
   "cell_type": "code",
   "execution_count": 2,
   "metadata": {},
   "outputs": [],
   "source": [
    "url = \"https://finlife.fss.or.kr/finlifeapi/depositProductsSearch.xml?auth=47c0e868fdb16333d47d0e385641c3c0&topFinGrpNo=020000&pageNo=1\"\n",
    "#tree = ET.ElementTree(file=urllib.request.urlopen(url).read().decode('euc-kr'))\n",
    "data = urllib.request.urlopen(url).read().decode('euc-kr')\n",
    "#data_json = requests.get('https://finlife.fss.or.kr/finlifeapi/depositProductsSearch.json?auth=47c0e868fdb16333d47d0e385641c3c0&topFinGrpNo=020000&pageNo=1')\n",
    "#data_xml = requests.get('https://finlife.fss.or.kr/finlifeapi/depositProductsSearch.xml?auth=47c0e868fdb16333d47d0e385641c3c0&topFinGrpNo=020000&pageNo=1')\n"
   ]
  },
  {
   "cell_type": "code",
   "execution_count": 22,
   "metadata": {},
   "outputs": [
    {
     "name": "stdout",
     "output_type": "stream",
     "text": [
      "<class 'str'> <class 'xml.etree.ElementTree.Element'>\n"
     ]
    }
   ],
   "source": [
    "#string형태의 데이터를 xml객체로 만들어주기\n",
    "root = ET.fromstring(data)\n",
    "print(type(data), type(root))\n",
    "#print(root)\n",
    "#tree = ET.parse(root)"
   ]
  },
  {
   "cell_type": "code",
   "execution_count": null,
   "metadata": {},
   "outputs": [],
   "source": [
    "#xml로 변환된 tree의 내용물 확인\n",
    "ET.dump(root)"
   ]
  },
  {
   "cell_type": "code",
   "execution_count": 68,
   "metadata": {},
   "outputs": [
    {
     "name": "stdout",
     "output_type": "stream",
     "text": [
      "err_cd {}\n",
      "err_msg {}\n",
      "total_count {}\n",
      "max_page_no {}\n",
      "now_page_no {}\n",
      "products {}\n"
     ]
    }
   ],
   "source": [
    "for products in root.iter('kor_co_nm'):\n",
    "    print(products.text)\n"
   ]
  },
  {
   "cell_type": "code",
   "execution_count": 70,
   "metadata": {},
   "outputs": [
    {
     "name": "stdout",
     "output_type": "stream",
     "text": [
      "dcls_month 202206\n",
      "fin_co_no 0010001\n",
      "kor_co_nm 우리은행\n",
      "fin_prdt_cd WR0001A\n",
      "fin_prdt_nm 우리 SUPER정기예금\n",
      "join_way 영업점,인터넷,스마트폰\n",
      "mtrt_int 만기 후\n",
      "- 1개월이내 : 만기시점약정이율×50%\n",
      "- 1개월초과 6개월이내: 만기시점약정이율×30%\n",
      "- 6개월초과 : 만기시점약정이율×20%\n",
      "\n",
      "※ 만기시점 약정이율 : 일반정기예금 금리\n",
      "spcl_cnd 해당사항 없음\n",
      "join_deny 1\n",
      "join_member 실명의 개인\n",
      "etc_note -만기일을 일,월 단위로 자유롭게 선택 가능\n",
      "-10년까지 자동재예치가 가능\n",
      "max_limit None\n",
      "dcls_strt_day 20220620\n",
      "dcls_end_day None\n",
      "fin_co_subm_day 202207141305\n"
     ]
    }
   ],
   "source": [
    "#products -> product -> baseinfo -> 내용들\n",
    "root[5][2][0][3].text\n",
    "\n",
    "\n",
    "#상품 하나의 데이터를 뽑아올 때\n",
    "for child in root[5][0][0]:\n",
    "    print(child.tag, child.text)"
   ]
  }
 ],
 "metadata": {
  "kernelspec": {
   "display_name": "Python 3.10.5 64-bit (windows store)",
   "language": "python",
   "name": "python3"
  },
  "language_info": {
   "codemirror_mode": {
    "name": "ipython",
    "version": 3
   },
   "file_extension": ".py",
   "mimetype": "text/x-python",
   "name": "python",
   "nbconvert_exporter": "python",
   "pygments_lexer": "ipython3",
   "version": "3.10.5"
  },
  "orig_nbformat": 4,
  "vscode": {
   "interpreter": {
    "hash": "611e51c281b01e01eb3324e6e932249b5a8b9a0d77e1733eb0d846aad0887f09"
   }
  }
 },
 "nbformat": 4,
 "nbformat_minor": 2
}
